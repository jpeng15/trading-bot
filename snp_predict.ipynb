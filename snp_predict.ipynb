{
  "nbformat": 4,
  "nbformat_minor": 0,
  "metadata": {
    "colab": {
      "provenance": [],
      "gpuType": "T4"
    },
    "kernelspec": {
      "name": "python3",
      "display_name": "Python 3"
    },
    "language_info": {
      "name": "python"
    },
    "accelerator": "GPU"
  },
  "cells": [
    {
      "cell_type": "code",
      "execution_count": 1,
      "metadata": {
        "id": "eHr0-WJPoi8f"
      },
      "outputs": [],
      "source": [
        "import yfinance as yf\n",
        "from datetime import datetime\n",
        "from sklearn.preprocessing import StandardScaler\n",
        "import pandas as pd\n",
        "import numpy as np\n",
        "import tensorflow as tf\n",
        "import keras\n",
        "import matplotlib.pyplot as plt\n"
      ]
    },
    {
      "cell_type": "markdown",
      "source": [
        "\n",
        "#Downloading S&P 500 Data\n",
        "\n"
      ],
      "metadata": {
        "id": "2efU7ZU8v3mi"
      }
    },
    {
      "cell_type": "code",
      "source": [],
      "metadata": {
        "id": "l159bzRZwCwB"
      },
      "execution_count": 1,
      "outputs": []
    },
    {
      "cell_type": "code",
      "source": [
        "start_date = datetime(2018, 1, 1)\n",
        "end_date = datetime(2023, 1, 1)\n",
        "data = yf.download('^GSPC', start=start_date, end=end_date)"
      ],
      "metadata": {
        "colab": {
          "base_uri": "https://localhost:8080/"
        },
        "id": "fnDGNevgv1v2",
        "outputId": "3f801a88-f0f2-4650-d6ca-3ecc191d5a57"
      },
      "execution_count": 2,
      "outputs": [
        {
          "output_type": "stream",
          "name": "stdout",
          "text": [
            "\r[*********************100%%**********************]  1 of 1 completed\n"
          ]
        }
      ]
    },
    {
      "cell_type": "code",
      "source": [
        "data = data.drop(columns=['High', 'Low', 'Close', 'Adj Close', 'Volume'])\n"
      ],
      "metadata": {
        "id": "-ZFz-X2GwRu8"
      },
      "execution_count": 3,
      "outputs": []
    },
    {
      "cell_type": "code",
      "source": [
        "sc = StandardScaler()\n",
        "data = sc.fit_transform(data)"
      ],
      "metadata": {
        "id": "U_Hfocfox_BT"
      },
      "execution_count": 4,
      "outputs": []
    },
    {
      "cell_type": "code",
      "source": [
        "data"
      ],
      "metadata": {
        "colab": {
          "base_uri": "https://localhost:8080/"
        },
        "id": "oYEp5LnNWFhX",
        "outputId": "3627b670-2bd7-4dc0-b780-50739d70bc66"
      },
      "execution_count": 35,
      "outputs": [
        {
          "output_type": "execute_result",
          "data": {
            "text/plain": [
              "array([[-1.14571298],\n",
              "       [-1.12459184],\n",
              "       [-1.09249161],\n",
              "       ...,\n",
              "       [ 0.56824178],\n",
              "       [ 0.53217742],\n",
              "       [ 0.56749387]])"
            ]
          },
          "metadata": {},
          "execution_count": 35
        }
      ]
    },
    {
      "cell_type": "markdown",
      "source": [
        "# Format the data"
      ],
      "metadata": {
        "id": "wvC4aDhGx5uG"
      }
    },
    {
      "cell_type": "code",
      "source": [
        "x_train = []\n",
        "y_train = []\n",
        "data.reshape((1259,))"
      ],
      "metadata": {
        "colab": {
          "base_uri": "https://localhost:8080/"
        },
        "id": "qWskhTaryGdu",
        "outputId": "64cbefbb-40bd-4316-b2a6-d5ec90a51ec3"
      },
      "execution_count": 5,
      "outputs": [
        {
          "output_type": "execute_result",
          "data": {
            "text/plain": [
              "array([-1.14571298, -1.12459184, -1.09249161, ...,  0.56824178,\n",
              "        0.53217742,  0.56749387])"
            ]
          },
          "metadata": {},
          "execution_count": 5
        }
      ]
    },
    {
      "cell_type": "code",
      "source": [],
      "metadata": {
        "colab": {
          "base_uri": "https://localhost:8080/"
        },
        "id": "5ClXevPAzcKG",
        "outputId": "b14d9124-fc4a-4049-d12e-7e6357b16a08"
      },
      "execution_count": 50,
      "outputs": [
        {
          "output_type": "execute_result",
          "data": {
            "text/plain": [
              "2697.85009765625"
            ]
          },
          "metadata": {},
          "execution_count": 50
        }
      ]
    },
    {
      "cell_type": "code",
      "source": [
        "for i in range(30, 1259):\n",
        "  x_vals = []\n",
        "  for j in range(i-30, i):\n",
        "    x_vals += [data[j]]\n",
        "  x_train.append(x_vals)\n",
        "  y_train.append(data[i])"
      ],
      "metadata": {
        "id": "V7al0RaMw9lY"
      },
      "execution_count": 6,
      "outputs": []
    },
    {
      "cell_type": "code",
      "source": [
        "len(x_train)"
      ],
      "metadata": {
        "colab": {
          "base_uri": "https://localhost:8080/"
        },
        "id": "0hMHAoIVJLIt",
        "outputId": "e11523d6-caaa-4aee-8fac-3612d64b2392"
      },
      "execution_count": 9,
      "outputs": [
        {
          "output_type": "execute_result",
          "data": {
            "text/plain": [
              "1229"
            ]
          },
          "metadata": {},
          "execution_count": 9
        }
      ]
    },
    {
      "cell_type": "code",
      "source": [
        "x_train, y_train = np.array(x_train), np.array(y_train)"
      ],
      "metadata": {
        "id": "XervR0sqVfnA"
      },
      "execution_count": 7,
      "outputs": []
    },
    {
      "cell_type": "code",
      "source": [
        "x_train[1]"
      ],
      "metadata": {
        "colab": {
          "base_uri": "https://localhost:8080/"
        },
        "id": "I5_9n7PPLODG",
        "outputId": "e13dbdf6-4bef-4883-cb5c-e4805de29b68"
      },
      "execution_count": 8,
      "outputs": [
        {
          "output_type": "execute_result",
          "data": {
            "text/plain": [
              "array([[-1.12459184],\n",
              "       [-1.09249161],\n",
              "       [-1.07451183],\n",
              "       [-1.05754948],\n",
              "       [-1.04486496],\n",
              "       [-1.05324133],\n",
              "       [-1.04214247],\n",
              "       [-1.01639947],\n",
              "       [-0.97334975],\n",
              "       [-0.9942463 ],\n",
              "       [-0.96820422],\n",
              "       [-0.96790476],\n",
              "       [-0.95809247],\n",
              "       [-0.9193655 ],\n",
              "       [-0.90385404],\n",
              "       [-0.90262737],\n",
              "       [-0.90077257],\n",
              "       [-0.87123014],\n",
              "       [-0.92282093],\n",
              "       [-0.92331467],\n",
              "       [-0.94718788],\n",
              "       [-0.95845145],\n",
              "       [-1.05995754],\n",
              "       [-1.24884965],\n",
              "       [-1.13491321],\n",
              "       [-1.14379829],\n",
              "       [-1.2682953 ],\n",
              "       [-1.21598654],\n",
              "       [-1.20174631],\n",
              "       [-1.19435705]])"
            ]
          },
          "metadata": {},
          "execution_count": 8
        }
      ]
    },
    {
      "cell_type": "markdown",
      "source": [
        "#Creating the model"
      ],
      "metadata": {
        "id": "4HuxZJTbJjUX"
      }
    },
    {
      "cell_type": "code",
      "source": [
        "model = keras.models.Sequential()\n",
        "\n",
        "model.add(keras.layers.LSTM(units=50, return_sequences=True, input_shape=(30, 1)))\n",
        "model.add(keras.layers.Dropout(0.2))\n",
        "model.add(keras.layers.LSTM(units=50, return_sequences=True))\n",
        "model.add(keras.layers.Dropout(0.2))\n",
        "model.add(keras.layers.LSTM(units=50, return_sequences=True))\n",
        "model.add(keras.layers.Dropout(0.2))\n",
        "model.add(keras.layers.LSTM(units=50))\n",
        "model.add(keras.layers.Dropout(0.2))\n",
        "model.add(keras.layers.Dense(1))\n",
        "model.compile(optimizer='adam', loss='mean_squared_error', metrics=['accuracy'])"
      ],
      "metadata": {
        "id": "_OTVwUgnJi4D"
      },
      "execution_count": 8,
      "outputs": []
    },
    {
      "cell_type": "code",
      "source": [
        "model.fit(x_train, y_train, epochs=100, batch_size=32)"
      ],
      "metadata": {
        "colab": {
          "base_uri": "https://localhost:8080/"
        },
        "id": "Zf8xT7XIJe5E",
        "outputId": "2321dace-3c4f-47d6-caa9-2c8890c4b52e"
      },
      "execution_count": 9,
      "outputs": [
        {
          "output_type": "stream",
          "name": "stdout",
          "text": [
            "Epoch 1/100\n",
            "39/39 [==============================] - 13s 11ms/step - loss: 0.1813 - accuracy: 0.0000e+00\n",
            "Epoch 2/100\n",
            "39/39 [==============================] - 0s 12ms/step - loss: 0.0554 - accuracy: 0.0000e+00\n",
            "Epoch 3/100\n",
            "39/39 [==============================] - 0s 12ms/step - loss: 0.0488 - accuracy: 0.0000e+00\n",
            "Epoch 4/100\n",
            "39/39 [==============================] - 0s 12ms/step - loss: 0.0426 - accuracy: 0.0000e+00\n",
            "Epoch 5/100\n",
            "39/39 [==============================] - 0s 11ms/step - loss: 0.0371 - accuracy: 0.0000e+00\n",
            "Epoch 6/100\n",
            "39/39 [==============================] - 0s 12ms/step - loss: 0.0383 - accuracy: 0.0000e+00\n",
            "Epoch 7/100\n",
            "39/39 [==============================] - 0s 12ms/step - loss: 0.0359 - accuracy: 0.0000e+00\n",
            "Epoch 8/100\n",
            "39/39 [==============================] - 1s 14ms/step - loss: 0.0346 - accuracy: 0.0000e+00\n",
            "Epoch 9/100\n",
            "39/39 [==============================] - 1s 16ms/step - loss: 0.0295 - accuracy: 0.0000e+00\n",
            "Epoch 10/100\n",
            "39/39 [==============================] - 1s 16ms/step - loss: 0.0289 - accuracy: 0.0000e+00\n",
            "Epoch 11/100\n",
            "39/39 [==============================] - 1s 15ms/step - loss: 0.0295 - accuracy: 0.0000e+00\n",
            "Epoch 12/100\n",
            "39/39 [==============================] - 1s 13ms/step - loss: 0.0299 - accuracy: 0.0000e+00\n",
            "Epoch 13/100\n",
            "39/39 [==============================] - 0s 11ms/step - loss: 0.0268 - accuracy: 0.0000e+00\n",
            "Epoch 14/100\n",
            "39/39 [==============================] - 0s 12ms/step - loss: 0.0296 - accuracy: 0.0000e+00\n",
            "Epoch 15/100\n",
            "39/39 [==============================] - 0s 11ms/step - loss: 0.0247 - accuracy: 0.0000e+00\n",
            "Epoch 16/100\n",
            "39/39 [==============================] - 0s 12ms/step - loss: 0.0248 - accuracy: 0.0000e+00\n",
            "Epoch 17/100\n",
            "39/39 [==============================] - 0s 11ms/step - loss: 0.0286 - accuracy: 0.0000e+00\n",
            "Epoch 18/100\n",
            "39/39 [==============================] - 0s 12ms/step - loss: 0.0262 - accuracy: 0.0000e+00\n",
            "Epoch 19/100\n",
            "39/39 [==============================] - 0s 11ms/step - loss: 0.0247 - accuracy: 0.0000e+00\n",
            "Epoch 20/100\n",
            "39/39 [==============================] - 0s 12ms/step - loss: 0.0237 - accuracy: 0.0000e+00\n",
            "Epoch 21/100\n",
            "39/39 [==============================] - 0s 11ms/step - loss: 0.0232 - accuracy: 0.0000e+00\n",
            "Epoch 22/100\n",
            "39/39 [==============================] - 0s 12ms/step - loss: 0.0222 - accuracy: 0.0000e+00\n",
            "Epoch 23/100\n",
            "39/39 [==============================] - 0s 11ms/step - loss: 0.0238 - accuracy: 0.0000e+00\n",
            "Epoch 24/100\n",
            "39/39 [==============================] - 0s 11ms/step - loss: 0.0206 - accuracy: 0.0000e+00\n",
            "Epoch 25/100\n",
            "39/39 [==============================] - 1s 13ms/step - loss: 0.0205 - accuracy: 0.0000e+00\n",
            "Epoch 26/100\n",
            "39/39 [==============================] - 0s 12ms/step - loss: 0.0211 - accuracy: 0.0000e+00\n",
            "Epoch 27/100\n",
            "39/39 [==============================] - 0s 12ms/step - loss: 0.0219 - accuracy: 0.0000e+00\n",
            "Epoch 28/100\n",
            "39/39 [==============================] - 0s 12ms/step - loss: 0.0205 - accuracy: 0.0000e+00\n",
            "Epoch 29/100\n",
            "39/39 [==============================] - 0s 12ms/step - loss: 0.0202 - accuracy: 0.0000e+00\n",
            "Epoch 30/100\n",
            "39/39 [==============================] - 0s 11ms/step - loss: 0.0201 - accuracy: 0.0000e+00\n",
            "Epoch 31/100\n",
            "39/39 [==============================] - 0s 12ms/step - loss: 0.0213 - accuracy: 0.0000e+00\n",
            "Epoch 32/100\n",
            "39/39 [==============================] - 0s 11ms/step - loss: 0.0210 - accuracy: 0.0000e+00\n",
            "Epoch 33/100\n",
            "39/39 [==============================] - 1s 13ms/step - loss: 0.0195 - accuracy: 0.0000e+00\n",
            "Epoch 34/100\n",
            "39/39 [==============================] - 1s 16ms/step - loss: 0.0202 - accuracy: 0.0000e+00\n",
            "Epoch 35/100\n",
            "39/39 [==============================] - 1s 17ms/step - loss: 0.0210 - accuracy: 0.0000e+00\n",
            "Epoch 36/100\n",
            "39/39 [==============================] - 1s 16ms/step - loss: 0.0201 - accuracy: 0.0000e+00\n",
            "Epoch 37/100\n",
            "39/39 [==============================] - 1s 14ms/step - loss: 0.0188 - accuracy: 0.0000e+00\n",
            "Epoch 38/100\n",
            "39/39 [==============================] - 0s 11ms/step - loss: 0.0191 - accuracy: 0.0000e+00\n",
            "Epoch 39/100\n",
            "39/39 [==============================] - 0s 12ms/step - loss: 0.0174 - accuracy: 0.0000e+00\n",
            "Epoch 40/100\n",
            "39/39 [==============================] - 0s 11ms/step - loss: 0.0177 - accuracy: 0.0000e+00\n",
            "Epoch 41/100\n",
            "39/39 [==============================] - 0s 12ms/step - loss: 0.0164 - accuracy: 0.0000e+00\n",
            "Epoch 42/100\n",
            "39/39 [==============================] - 0s 11ms/step - loss: 0.0171 - accuracy: 0.0000e+00\n",
            "Epoch 43/100\n",
            "39/39 [==============================] - 0s 12ms/step - loss: 0.0170 - accuracy: 0.0000e+00\n",
            "Epoch 44/100\n",
            "39/39 [==============================] - 0s 11ms/step - loss: 0.0176 - accuracy: 0.0000e+00\n",
            "Epoch 45/100\n",
            "39/39 [==============================] - 0s 12ms/step - loss: 0.0190 - accuracy: 0.0000e+00\n",
            "Epoch 46/100\n",
            "39/39 [==============================] - 0s 12ms/step - loss: 0.0189 - accuracy: 0.0000e+00\n",
            "Epoch 47/100\n",
            "39/39 [==============================] - 0s 11ms/step - loss: 0.0183 - accuracy: 0.0000e+00\n",
            "Epoch 48/100\n",
            "39/39 [==============================] - 0s 12ms/step - loss: 0.0185 - accuracy: 0.0000e+00\n",
            "Epoch 49/100\n",
            "39/39 [==============================] - 0s 12ms/step - loss: 0.0191 - accuracy: 0.0000e+00\n",
            "Epoch 50/100\n",
            "39/39 [==============================] - 0s 12ms/step - loss: 0.0182 - accuracy: 0.0000e+00\n",
            "Epoch 51/100\n",
            "39/39 [==============================] - 0s 11ms/step - loss: 0.0154 - accuracy: 0.0000e+00\n",
            "Epoch 52/100\n",
            "39/39 [==============================] - 0s 12ms/step - loss: 0.0153 - accuracy: 0.0000e+00\n",
            "Epoch 53/100\n",
            "39/39 [==============================] - 0s 11ms/step - loss: 0.0156 - accuracy: 0.0000e+00\n",
            "Epoch 54/100\n",
            "39/39 [==============================] - 0s 12ms/step - loss: 0.0159 - accuracy: 0.0000e+00\n",
            "Epoch 55/100\n",
            "39/39 [==============================] - 0s 11ms/step - loss: 0.0171 - accuracy: 0.0000e+00\n",
            "Epoch 56/100\n",
            "39/39 [==============================] - 0s 12ms/step - loss: 0.0153 - accuracy: 0.0000e+00\n",
            "Epoch 57/100\n",
            "39/39 [==============================] - 0s 11ms/step - loss: 0.0162 - accuracy: 0.0000e+00\n",
            "Epoch 58/100\n",
            "39/39 [==============================] - 0s 12ms/step - loss: 0.0159 - accuracy: 0.0000e+00\n",
            "Epoch 59/100\n",
            "39/39 [==============================] - 1s 16ms/step - loss: 0.0169 - accuracy: 0.0000e+00\n",
            "Epoch 60/100\n",
            "39/39 [==============================] - 1s 15ms/step - loss: 0.0151 - accuracy: 0.0000e+00\n",
            "Epoch 61/100\n",
            "39/39 [==============================] - 1s 16ms/step - loss: 0.0152 - accuracy: 0.0000e+00\n",
            "Epoch 62/100\n",
            "39/39 [==============================] - 1s 16ms/step - loss: 0.0152 - accuracy: 0.0000e+00\n",
            "Epoch 63/100\n",
            "39/39 [==============================] - 0s 12ms/step - loss: 0.0150 - accuracy: 0.0000e+00\n",
            "Epoch 64/100\n",
            "39/39 [==============================] - 0s 12ms/step - loss: 0.0145 - accuracy: 0.0000e+00\n",
            "Epoch 65/100\n",
            "39/39 [==============================] - 0s 11ms/step - loss: 0.0129 - accuracy: 0.0000e+00\n",
            "Epoch 66/100\n",
            "39/39 [==============================] - 0s 11ms/step - loss: 0.0151 - accuracy: 0.0000e+00\n",
            "Epoch 67/100\n",
            "39/39 [==============================] - 0s 12ms/step - loss: 0.0140 - accuracy: 0.0000e+00\n",
            "Epoch 68/100\n",
            "39/39 [==============================] - 0s 11ms/step - loss: 0.0137 - accuracy: 0.0000e+00\n",
            "Epoch 69/100\n",
            "39/39 [==============================] - 0s 11ms/step - loss: 0.0144 - accuracy: 0.0000e+00\n",
            "Epoch 70/100\n",
            "39/39 [==============================] - 0s 11ms/step - loss: 0.0146 - accuracy: 0.0000e+00\n",
            "Epoch 71/100\n",
            "39/39 [==============================] - 0s 11ms/step - loss: 0.0136 - accuracy: 0.0000e+00\n",
            "Epoch 72/100\n",
            "39/39 [==============================] - 0s 12ms/step - loss: 0.0145 - accuracy: 0.0000e+00\n",
            "Epoch 73/100\n",
            "39/39 [==============================] - 0s 12ms/step - loss: 0.0139 - accuracy: 0.0000e+00\n",
            "Epoch 74/100\n",
            "39/39 [==============================] - 0s 12ms/step - loss: 0.0136 - accuracy: 0.0000e+00\n",
            "Epoch 75/100\n",
            "39/39 [==============================] - 0s 12ms/step - loss: 0.0142 - accuracy: 0.0000e+00\n",
            "Epoch 76/100\n",
            "39/39 [==============================] - 0s 11ms/step - loss: 0.0136 - accuracy: 0.0000e+00\n",
            "Epoch 77/100\n",
            "39/39 [==============================] - 0s 12ms/step - loss: 0.0120 - accuracy: 0.0000e+00\n",
            "Epoch 78/100\n",
            "39/39 [==============================] - 0s 11ms/step - loss: 0.0133 - accuracy: 0.0000e+00\n",
            "Epoch 79/100\n",
            "39/39 [==============================] - 0s 12ms/step - loss: 0.0129 - accuracy: 0.0000e+00\n",
            "Epoch 80/100\n",
            "39/39 [==============================] - 0s 12ms/step - loss: 0.0121 - accuracy: 0.0000e+00\n",
            "Epoch 81/100\n",
            "39/39 [==============================] - 0s 11ms/step - loss: 0.0130 - accuracy: 0.0000e+00\n",
            "Epoch 82/100\n",
            "39/39 [==============================] - 0s 12ms/step - loss: 0.0134 - accuracy: 0.0000e+00\n",
            "Epoch 83/100\n",
            "39/39 [==============================] - 0s 12ms/step - loss: 0.0131 - accuracy: 0.0000e+00\n",
            "Epoch 84/100\n",
            "39/39 [==============================] - 1s 14ms/step - loss: 0.0135 - accuracy: 0.0000e+00\n",
            "Epoch 85/100\n",
            "39/39 [==============================] - 1s 16ms/step - loss: 0.0131 - accuracy: 0.0000e+00\n",
            "Epoch 86/100\n",
            "39/39 [==============================] - 1s 16ms/step - loss: 0.0132 - accuracy: 0.0000e+00\n",
            "Epoch 87/100\n",
            "39/39 [==============================] - 1s 17ms/step - loss: 0.0118 - accuracy: 0.0000e+00\n",
            "Epoch 88/100\n",
            "39/39 [==============================] - 1s 14ms/step - loss: 0.0121 - accuracy: 0.0000e+00\n",
            "Epoch 89/100\n",
            "39/39 [==============================] - 0s 11ms/step - loss: 0.0126 - accuracy: 0.0000e+00\n",
            "Epoch 90/100\n",
            "39/39 [==============================] - 0s 11ms/step - loss: 0.0118 - accuracy: 0.0000e+00\n",
            "Epoch 91/100\n",
            "39/39 [==============================] - 0s 11ms/step - loss: 0.0122 - accuracy: 0.0000e+00\n",
            "Epoch 92/100\n",
            "39/39 [==============================] - 0s 12ms/step - loss: 0.0124 - accuracy: 0.0000e+00\n",
            "Epoch 93/100\n",
            "39/39 [==============================] - 0s 11ms/step - loss: 0.0128 - accuracy: 0.0000e+00\n",
            "Epoch 94/100\n",
            "39/39 [==============================] - 0s 11ms/step - loss: 0.0132 - accuracy: 0.0000e+00\n",
            "Epoch 95/100\n",
            "39/39 [==============================] - 0s 11ms/step - loss: 0.0116 - accuracy: 0.0000e+00\n",
            "Epoch 96/100\n",
            "39/39 [==============================] - 0s 12ms/step - loss: 0.0116 - accuracy: 0.0000e+00\n",
            "Epoch 97/100\n",
            "39/39 [==============================] - 0s 12ms/step - loss: 0.0127 - accuracy: 0.0000e+00\n",
            "Epoch 98/100\n",
            "39/39 [==============================] - 0s 12ms/step - loss: 0.0119 - accuracy: 0.0000e+00\n",
            "Epoch 99/100\n",
            "39/39 [==============================] - 0s 11ms/step - loss: 0.0110 - accuracy: 0.0000e+00\n",
            "Epoch 100/100\n",
            "39/39 [==============================] - 0s 11ms/step - loss: 0.0117 - accuracy: 0.0000e+00\n"
          ]
        },
        {
          "output_type": "execute_result",
          "data": {
            "text/plain": [
              "<keras.callbacks.History at 0x7ae0b707f9d0>"
            ]
          },
          "metadata": {},
          "execution_count": 9
        }
      ]
    },
    {
      "cell_type": "markdown",
      "source": [
        "#Testing the data\n"
      ],
      "metadata": {
        "id": "uDgDFhPQMQF1"
      }
    },
    {
      "cell_type": "code",
      "source": [
        "test_start = datetime(2023, 1, 1)\n",
        "test_end = datetime(2023, 8, 27)\n",
        "test_data =  yf.download('^GSPC', start=test_start, end=test_end)"
      ],
      "metadata": {
        "colab": {
          "base_uri": "https://localhost:8080/"
        },
        "id": "JGqmFwF9MRvr",
        "outputId": "3bf666d9-fd00-46f5-d3e7-adba1ef70461"
      },
      "execution_count": 10,
      "outputs": [
        {
          "output_type": "stream",
          "name": "stdout",
          "text": [
            "\r[*********************100%%**********************]  1 of 1 completed\n"
          ]
        }
      ]
    },
    {
      "cell_type": "code",
      "source": [
        "test_data = test_data.drop(columns=['High', 'Low', 'Close', 'Adj Close', 'Volume'])"
      ],
      "metadata": {
        "id": "7NHat1i6MXJR"
      },
      "execution_count": 11,
      "outputs": []
    },
    {
      "cell_type": "code",
      "source": [
        "sc = StandardScaler()\n",
        "test_data = sc.fit_transform(test_data)"
      ],
      "metadata": {
        "id": "WYnhkIG0Ma9S"
      },
      "execution_count": 12,
      "outputs": []
    },
    {
      "cell_type": "code",
      "source": [
        "len(test_data)"
      ],
      "metadata": {
        "colab": {
          "base_uri": "https://localhost:8080/"
        },
        "id": "qSNKi5lhMuF_",
        "outputId": "591e32a4-fce4-4508-bef3-1eb0f0298a46"
      },
      "execution_count": 13,
      "outputs": [
        {
          "output_type": "execute_result",
          "data": {
            "text/plain": [
              "163"
            ]
          },
          "metadata": {},
          "execution_count": 13
        }
      ]
    },
    {
      "cell_type": "code",
      "source": [
        "x_test = []\n",
        "y_test = []\n",
        "test_data.reshape((163,))"
      ],
      "metadata": {
        "colab": {
          "base_uri": "https://localhost:8080/"
        },
        "id": "8FCIlI6bMeuN",
        "outputId": "1a850933-c73b-40f8-ab71-ac6e63cc06ee"
      },
      "execution_count": 14,
      "outputs": [
        {
          "output_type": "execute_result",
          "data": {
            "text/plain": [
              "array([-1.6244159 , -1.68674997, -1.68973951, -1.76865724, -1.34706863,\n",
              "       -1.45433395, -1.24327423, -1.02527269, -1.10708344, -0.92061085,\n",
              "       -0.90629288, -1.3421512 , -1.35565   , -1.02252561, -0.90875159,\n",
              "       -1.00049371, -0.74320102, -0.65816063, -0.67961346, -0.81662343,\n",
              "       -0.57933823, -0.15215661, -0.25816962, -0.34070421, -0.40925628,\n",
              "       -0.17727338, -0.22172323, -0.58488299, -0.45134275, -0.30632931,\n",
              "       -0.34104083, -0.36394017, -0.54404999, -0.66476467, -0.90831729,\n",
              "       -0.82747048, -1.04614762, -0.95397119, -1.02710524, -1.09387418,\n",
              "       -1.21275865, -0.92668525, -0.65126705, -0.68448263, -0.97716007,\n",
              "       -0.92360038, -1.33766809, -1.71201151, -1.42810846, -1.51136572,\n",
              "       -1.50080821, -1.11629214, -1.31501003, -1.03337267, -0.90730508,\n",
              "       -1.11378517, -1.21020343, -0.99943325, -1.04185752, -0.91940562,\n",
              "       -0.69181051, -0.64630137, -0.42444168, -0.29991948, -0.46156365,\n",
              "       -0.52592331, -0.50639838, -0.38544125, -0.33033737, -0.43485561,\n",
              "       -0.24168247, -0.25585567, -0.12525789, -0.24544175, -0.2881073 ,\n",
              "       -0.28010383, -0.2804428 , -0.30763105, -0.49396005, -0.55417321,\n",
              "       -0.29220554, -0.11305966, -0.12602764, -0.32778332, -0.51917333,\n",
              "       -0.50866407, -0.25677136, -0.31814149, -0.22418077, -0.27962127,\n",
              "       -0.24925046, -0.30657177, -0.30030317, -0.3248903 , -0.15697752,\n",
              "        0.06704899,  0.00259282, -0.06480345, -0.27615153, -0.16647576,\n",
              "       -0.1643054 ,  0.17580907,  0.00240215, -0.03476926,  0.24474718,\n",
              "        0.44713137,  0.39096585,  0.45908714,  0.3781909 ,  0.55265946,\n",
              "        0.56924312,  0.78276155,  0.84871249,  0.8440846 ,  1.20864261,\n",
              "        0.99247127,  0.91485409,  0.79621208,  0.79028246,  0.74530296,\n",
              "        0.70924262,  0.85444909,  0.89041291,  1.11940628,  1.25458487,\n",
              "        1.21389665,  1.12027489,  1.03311241,  0.98340851,  1.08618953,\n",
              "        1.3375526 ,  1.45233882,  1.56374946,  1.53602921,  1.59831503,\n",
              "        1.80122886,  1.75547726,  1.73513433,  1.70249665,  1.75938249,\n",
              "        1.77755742,  1.96701836,  1.81029161,  1.90222558,  1.87334953,\n",
              "        1.73884653,  1.46569284,  1.56061634,  1.45272487,  1.48381834,\n",
              "        1.50088457,  1.43141681,  1.25559708,  1.29146439,  1.39145125,\n",
              "        1.17412412,  1.08990173,  0.74549599,  0.91615584,  1.08513025,\n",
              "        0.99406254,  1.27714759,  0.96002661])"
            ]
          },
          "metadata": {},
          "execution_count": 14
        }
      ]
    },
    {
      "cell_type": "code",
      "source": [
        "for i in range(30, 163):\n",
        "  x_vals = []\n",
        "  for j in range(i-30, i):\n",
        "    x_vals += [test_data[j]]\n",
        "  x_test.append(x_vals)\n",
        "  y_test.append(test_data[i])"
      ],
      "metadata": {
        "id": "-KDnlPpVMgdz"
      },
      "execution_count": 16,
      "outputs": []
    },
    {
      "cell_type": "code",
      "source": [
        "x_test, y_test = np.array(x_test), np.array(y_test)"
      ],
      "metadata": {
        "id": "RecBK4GFMnQC"
      },
      "execution_count": 17,
      "outputs": []
    },
    {
      "cell_type": "code",
      "source": [
        "predicted = model.predict(x_test)\n",
        "predicted = sc.inverse_transform(predicted)\n",
        "\n",
        "y_test = sc.inverse_transform(y_test)"
      ],
      "metadata": {
        "colab": {
          "base_uri": "https://localhost:8080/"
        },
        "id": "qe5-TJBkM_FC",
        "outputId": "c9ce1f65-ad19-4a83-c99e-00999d3fc0e9"
      },
      "execution_count": 18,
      "outputs": [
        {
          "output_type": "stream",
          "name": "stdout",
          "text": [
            "5/5 [==============================] - 1s 6ms/step\n"
          ]
        }
      ]
    },
    {
      "cell_type": "code",
      "source": [
        "plt.plot(y_test, color = 'black', label = 'S&P 500 Price')\n",
        "plt.plot(predicted, color = 'green', label = 'Predicted S&P 500 Price')\n",
        "plt.title('S&P 500 Prediction')\n",
        "plt.xlabel('Time')\n",
        "plt.ylabel('S&P 500 Price')\n",
        "plt.legend()\n",
        "plt.show()\n"
      ],
      "metadata": {
        "colab": {
          "base_uri": "https://localhost:8080/",
          "height": 472
        },
        "id": "KLzuva5YNQz6",
        "outputId": "344c57ca-868f-4144-b175-31e96f075345"
      },
      "execution_count": 19,
      "outputs": [
        {
          "output_type": "display_data",
          "data": {
            "text/plain": [
              "<Figure size 640x480 with 1 Axes>"
            ],
            "image/png": "[encoded data removed]"
          },
          "metadata": {}
        }
      ]
    }
  ]
}